{
 "cells": [
  {
   "cell_type": "markdown",
   "metadata": {},
   "source": [
    "# Fundamentos de programación en Python\n",
    "1. Lenguaje de programación orientado a objetos\n",
    "2. Objetos en Python\n",
    "3. Indexando y algunos comandos básicos\n",
    "4. Operaciones\n",
    "\n",
    "## 1. Lenguaje de programación orientado a objetos\n",
    "### Lenguaje de Programación Orientado a Objetos (OOP) o Programación Funcional (FP)\n",
    "OOP y FP son diferentes paradigmas para alcanzar un objetivo a través de la programación.\n",
    "\n",
    "> OOP: Un paradigma de programación basado en el concepto de \"objetos\", que son estructuras que contienen datos en forma de campos, a menudo conocidos como atributos; y código, en forma de procedimientos, a menudo conocidos como métodos.\n",
    "[wikipedia](https://en.wikipedia.org/wiki/Object-oriented_programming)\n",
    "\n",
    "> FP: Un paradigma de programación, un estilo de construcción de estructuras y elementos del código, que trata al programa como evaluación de funciones matemáticas, evitando así, el cambio de estados y datos mutables.\n",
    "[wikipedia](https://en.wikipedia.org/wiki/Functional_programming)\n",
    "\n",
    "En cualquier programa hay dos componentes principales: *datos* y *comportamientos*. OOP reúne a los datos y sus comportamientos asociados en una única ubicación (llamada \"objeto\"). En cambio, FP mantiene los datos y sus comportamientos por separado.\n",
    "\n",
    "Interesante artículo comparando OOP y FP [here](https://www.tutorialspoint.com/functional_programming/functional_programming_introduction.htm)\n",
    "\n",
    "### Ejemplos\n",
    "* OOP: lenguajes más populare como Python, R, Matlab, Julia, Fortran, Ruby, ...\n",
    "\n",
    "* FP: Mathematica, Ruby,...\n",
    "\n",
    "## 2. Objectos en Python\n",
    "Python es un lenguaje OOP. Todo en Python es un objeto que puede ser mutable o inmutable. Estos objetos son:\n",
    "\n",
    "Los objetos se pueden identificar con el comando *type()* y *id()*\n",
    "\n",
    "**Nota**: *las variables no tienen que declararse antes de ser usadas*\n",
    "\n",
    "### 2.1. Boolean\n",
    "Una declaración lógica verdadera/falsa"
   ]
  },
  {
   "cell_type": "code",
   "execution_count": null,
   "metadata": {},
   "outputs": [],
   "source": [
    "a = 2 > 3\n",
    "b = 5 == 10\n",
    "c = 2 <= 4\n",
    "d = \"aa\" == \"aa\"\n",
    "print(a, b, c, d)"
   ]
  },
  {
   "cell_type": "markdown",
   "metadata": {},
   "source": [
    "Python identifica las variables segun su tipo"
   ]
  },
  {
   "cell_type": "code",
   "execution_count": null,
   "metadata": {},
   "outputs": [],
   "source": [
    "print(type(a))"
   ]
  },
  {
   "cell_type": "markdown",
   "metadata": {},
   "source": [
    "Estos son objetos inmutables ya que Python asigna la misma ubicación de memoria a un boolean"
   ]
  },
  {
   "cell_type": "code",
   "execution_count": null,
   "metadata": {},
   "outputs": [],
   "source": [
    "print(id(a))\n",
    "print(id(a) == id(b))"
   ]
  },
  {
   "cell_type": "markdown",
   "metadata": {},
   "source": [
    "### 2.2. Integer and float\n",
    "Los números pueden ser enteros (sin decimales) o flotantes (decimales de doble precisión)."
   ]
  },
  {
   "cell_type": "code",
   "execution_count": null,
   "metadata": {},
   "outputs": [],
   "source": [
    "a = 1\n",
    "b = 1\n",
    "print(f'{a} {b}')\n",
    "print(f'Las variables a es tipo {type(a)} y b es tipo {type(b)}')\n",
    "print(f'a es el del mismo tipo que b? {type(a) == type(b)}')\n",
    "print(f'Tiene el mismo id? {id(a) == id(b)}')\n",
    "print(f'El id de a es {id(a)} y el id de b es {id(b)}')"
   ]
  },
  {
   "cell_type": "code",
   "execution_count": null,
   "metadata": {},
   "outputs": [],
   "source": [
    "a = 1\n",
    "b = 1.0\n",
    "print(f'{a} {b}')\n",
    "print(f'Las variables a es tipo {type(a)} y b es tipo {type(b)}')\n",
    "print(f'a es el del mismo tipo que b? {type(a) == type(b)}')\n",
    "print(f'Tiene el mismo id? {id(a) == id(b)}')\n",
    "print(f'El id de a es {id(a)} y el id de b es {id(b)}')"
   ]
  },
  {
   "cell_type": "markdown",
   "metadata": {},
   "source": [
    "### 2.3. Strings\n",
    "Un String es una secuencia de caracteres."
   ]
  },
  {
   "cell_type": "code",
   "execution_count": null,
   "metadata": {},
   "outputs": [],
   "source": [
    "a = \"Python\"\n",
    "b = \"Python\"\n",
    "print(f'a es {a} y b es {b}')\n",
    "print(f'La variable a es de tipo {type(a)}')\n",
    "print(f'Tiene el mismo id? {id(a) == id(b)}')\n",
    "print(f'El id de a es {id(a)} y el id de b es {id(b)}')"
   ]
  },
  {
   "cell_type": "markdown",
   "metadata": {},
   "source": [
    "### 2.4. List\n",
    "Una secuencia mutable de objetos."
   ]
  },
  {
   "cell_type": "code",
   "execution_count": null,
   "metadata": {},
   "outputs": [],
   "source": [
    "a = [[1,2,3], [4, 5, 6]]\n",
    "print(a)\n",
    "a = [[1,2,3], [4, 5]]\n",
    "print(a)\n",
    "a = [[1,2,3], [4, 5], \"hola\"]\n",
    "print(a)"
   ]
  },
  {
   "cell_type": "code",
   "execution_count": null,
   "metadata": {},
   "outputs": [],
   "source": [
    "a = [1, 2, 3]\n",
    "b = [3, 2, 1]\n",
    "print(f'Las listas se pueden agregar unas a otras: {a + b}')\n",
    "\n",
    "#Algunos metodos de las listas\n",
    "a.append(4)\n",
    "print(f'Se pueden agregar valores usando el metodo append: {a}')\n",
    "a.remove(4)\n",
    "print(f'Se puede eliminar los valores usando el metodo remove: {a}')\n",
    "b.sort()\n",
    "print(f'Tambien se pueden ordenar las listas: {b}')"
   ]
  },
  {
   "cell_type": "markdown",
   "metadata": {},
   "source": [
    "### 2.5. Tuple\n",
    "Una secuencia inmutable de objetos."
   ]
  },
  {
   "cell_type": "code",
   "execution_count": null,
   "metadata": {},
   "outputs": [],
   "source": [
    "a = (1, 2, 3)\n",
    "b = (3, 2, 1)\n",
    "print(f'Las tuplas tambien se pueden agregar unas a otras: {a + b}')\n",
    "\n",
    "#Al ser objetos inmutables, estas no tienen los mismos metodos que las listas\n",
    "#Las tuplas solo cuentan con 2 metodos\n",
    "print(f'Podemos contar las veces que un elemento de la tupla se repite: {a.count(2)}')\n",
    "print(f'Y podemos averiguar el indice de un valor dentro de la tupla: {a.index(1)}')"
   ]
  },
  {
   "cell_type": "markdown",
   "metadata": {},
   "source": [
    "Entonces, ¿para qué uso tuples en vez de listas? Se usan porque los tuples ocupan mucho menos espacio en la computadora. Si sabes que no vas a necesitar cambiar nada es más eficiente usar tuples.\n",
    "\n",
    "Las listas se pueden convertir en tuplas y las tuplas en listas"
   ]
  },
  {
   "cell_type": "code",
   "execution_count": null,
   "metadata": {},
   "outputs": [],
   "source": [
    "a = (1,'a',2,'a',1)\n",
    "b = list(a)\n",
    "c = tuple(b)\n",
    "print(f'Ahora \"b\" es una lista {b} = {type(b)}')\n",
    "print(f'Y \"c\" es una tupla {c} = {type(c)}')"
   ]
  },
  {
   "cell_type": "markdown",
   "metadata": {},
   "source": [
    "### 2.6. Set\n",
    "Una secuencia ordenada mutable que no tiene elementos repetidos."
   ]
  },
  {
   "cell_type": "code",
   "execution_count": null,
   "metadata": {},
   "outputs": [],
   "source": [
    "a = {1,1,1,1,2,3,4,5,6,6,7}\n",
    "print(f'Al poner los valores entre corchetes solo dejara los valores unicos que existan {a}')"
   ]
  },
  {
   "cell_type": "code",
   "execution_count": null,
   "metadata": {},
   "outputs": [],
   "source": [
    "a = {1,1,1,1,2,3,4,5,6,6,7}\n",
    "print(f'Se puede convertir a lista {list(a)}')\n",
    "print(f'Tambien se puede convertir a tupla {tuple(a)}')\n",
    "print(f'Y puede ser un set otra vez {set(a)}')"
   ]
  },
  {
   "cell_type": "markdown",
   "metadata": {},
   "source": [
    "### 2.7. Dictionary\n",
    "Mapeo asociativo mutable\n",
    "1. Identificador único *key*\n",
    "2. Creado con {}\n",
    "3. Cada campo tiene el formato \"key: values\""
   ]
  },
  {
   "cell_type": "code",
   "execution_count": null,
   "metadata": {},
   "outputs": [],
   "source": [
    "a = {'University': 'ULIMA', 'City':'Lima', 'Programs':['Economics','Others']}\n",
    "print(a, type(a))"
   ]
  },
  {
   "cell_type": "code",
   "execution_count": null,
   "metadata": {},
   "outputs": [],
   "source": [
    "#Podemos acceder a las keys del diccionario\n",
    "a.keys()"
   ]
  },
  {
   "cell_type": "code",
   "execution_count": null,
   "metadata": {},
   "outputs": [],
   "source": [
    "#Accedemos a los valores que contiene el key\n",
    "a['Programs']"
   ]
  },
  {
   "cell_type": "code",
   "execution_count": null,
   "metadata": {},
   "outputs": [],
   "source": [
    "#Podemos actualizar el diccionario\n",
    "a['Programs'] = ['Economics', 'Administration', 'Engineering', 'Others']\n",
    "print(a)"
   ]
  },
  {
   "cell_type": "markdown",
   "metadata": {},
   "source": [
    "## 3. Indexación y algunos comandos básicos\n",
    "1. Indexación\n",
    "2. ```rango()```\n",
    "4. ```len()```\n",
    "5. ```input()```\n",
    "\n",
    "### 3.1. Indexación\n",
    "\n",
    "* La ordenación de elementos en cualquier arreglo comienza en **0**\n",
    "\n",
    "* Obtener el índice de un elemento: ```list.index(elemento)```"
   ]
  },
  {
   "cell_type": "code",
   "execution_count": null,
   "metadata": {},
   "outputs": [],
   "source": [
    "list1 = ['Python is so cool!', 'right?', 2, 'Is this the 3rd or the 4th element?', 2**(1/2)]\n",
    "print('Python is so cool! se encuentra en la posicion:', list1.index('Python is so cool!'))"
   ]
  },
  {
   "cell_type": "markdown",
   "metadata": {},
   "source": [
    "* Extraer el valor asociado al índice: ```list[index]```\n",
    "    \n",
    "* Extraer una secuencia de elementos: ```list[a:n]``` (elementos desde 'a' hanta 'n-1')\n",
    "\n",
    "* Extraer una secuencia de todos los elementos a la derecha: ```list [a:]``` (elementos desde 'a')\n",
    "    \n",
    "* Extraer una secuencia de todos los elementos a la izquierda: ```list [:n]``` (elemtos hasta 'n-1')"
   ]
  },
  {
   "cell_type": "code",
   "execution_count": null,
   "metadata": {},
   "outputs": [],
   "source": [
    "print(list1[0])\n",
    "print(list1[0:3])\n",
    "print(list1[1:])\n",
    "print(list1[:3])"
   ]
  },
  {
   "cell_type": "code",
   "execution_count": null,
   "metadata": {},
   "outputs": [],
   "source": [
    "#Python tambien trabaja con indices negativo\n",
    "print(list1[1:-2])"
   ]
  },
  {
   "cell_type": "markdown",
   "metadata": {},
   "source": [
    "### 3.2. len() y range()\n",
    "```len(list)```: tamaño de 'list'\n",
    "\n",
    "```range(a:n)```: crea una lista de enteros entre 'a' y 'n-1'"
   ]
  },
  {
   "cell_type": "code",
   "execution_count": null,
   "metadata": {},
   "outputs": [],
   "source": [
    "print(f'El total de elementos en list1 es {len(list1)}')"
   ]
  },
  {
   "cell_type": "code",
   "execution_count": null,
   "metadata": {},
   "outputs": [],
   "source": [
    "#range(start, stop, step) El unico valor obligarotio es \"stop\"\n",
    "rango_1 = [*range(10)]\n",
    "rango_2 = [*range(1, 10)]\n",
    "rango_3 = [*range(1, 10, 2)]\n",
    "print(rango_1)\n",
    "print(rango_2)\n",
    "print(rango_3)"
   ]
  },
  {
   "cell_type": "markdown",
   "metadata": {},
   "source": [
    "## 4. Operaciones\n",
    "\n",
    "### 4.1. Operadores numéricos\n",
    "* ```+``` para adición\n",
    "\n",
    "* ```-``` para sustracción\n",
    "\n",
    "* ```*``` para multiplicación\n",
    "\n",
    "* ```/``` para división \n",
    "\n",
    "* ```//``` omite el resto en una división\n",
    "\n",
    "* ```%``` devuelve el resto de una división\n",
    "\n",
    "* ```**``` para potencias\n",
    "\n",
    "* ```()``` asigna prioridades diferentes a las convencionales en el orden de ejecución de operaciones"
   ]
  },
  {
   "cell_type": "code",
   "execution_count": null,
   "metadata": {},
   "outputs": [],
   "source": [
    "print(25 + 4)\n",
    "print(25 - 4)\n",
    "print(25 * 4)\n",
    "print(25 / 3)\n",
    "print(25 // 3)\n",
    "print(25 % 3)\n",
    "print(25 ** 3)\n",
    "print((25 * 3) + (4 * 5))"
   ]
  },
  {
   "cell_type": "markdown",
   "metadata": {},
   "source": [
    "## 5. Funciones\n",
    "Las funciones (o definiciones) son bloques dentro de un script que determinan un comportamiento para variables de entrada y reporta variables de salida.\n",
    "\n",
    "Sintaxis:\n",
    "\n",
    "```python\n",
    "def Nombre_de_definición( variables_de_entrada )\n",
    "    # ...\n",
    "    transformaciones_sobre_variables_de_entrada\n",
    "    determinación_de_variables_de_salida\n",
    "    # ...\n",
    "    return variables_de_salida\n",
    "```"
   ]
  },
  {
   "cell_type": "code",
   "execution_count": null,
   "metadata": {},
   "outputs": [],
   "source": [
    "#Una funcion que retorne el cuadrado de un numero\n",
    "def cuadrado(x):\n",
    "    x = x ** 2\n",
    "    return x"
   ]
  },
  {
   "cell_type": "code",
   "execution_count": null,
   "metadata": {},
   "outputs": [],
   "source": [
    "x = cuadrado(5)\n",
    "print(x)"
   ]
  },
  {
   "cell_type": "code",
   "execution_count": null,
   "metadata": {},
   "outputs": [],
   "source": [
    "#Las funciones si son cortas podrian definirse en una sola linea\n",
    "def cuadrado(x): return x ** 2"
   ]
  },
  {
   "cell_type": "code",
   "execution_count": null,
   "metadata": {},
   "outputs": [],
   "source": [
    "x = cuadrado(5)\n",
    "print(x)"
   ]
  },
  {
   "cell_type": "markdown",
   "metadata": {},
   "source": [
    "## 6. Funciones Lambda\n",
    "Si una función es lo suficientemente sencilla, podría escribirse en una sola línea\n",
    "```python\n",
    "f = lambda x: f(x)\n",
    "```"
   ]
  },
  {
   "cell_type": "code",
   "execution_count": null,
   "metadata": {},
   "outputs": [],
   "source": [
    "cuadrado = lambda x: x ** 2"
   ]
  },
  {
   "cell_type": "code",
   "execution_count": null,
   "metadata": {},
   "outputs": [],
   "source": [
    "x = cuadrado(5)\n",
    "print(x)"
   ]
  },
  {
   "cell_type": "markdown",
   "metadata": {},
   "source": [
    "# Declaraciones condicionales y bucles\n",
    "\n",
    "## 7. Condicional\n",
    "Se evalúa una secuencia de código si un booleano es verdadero\n",
    "\n",
    "* Declaración ```if ... elif ... else```\n",
    "\n",
    "    Sintaxis\n",
    "    \n",
    "    ```python\n",
    "if condición:\n",
    "    declaraciones(s)\n",
    "elif:              # opcional (abreviatura de 'else if')\n",
    "    declaraciones(s) # opcional\n",
    "else:              # opcional\n",
    "    declaraciones(s) # opcional\n",
    "    ```\n",
    "    \n",
    "    **Nota**: Se requiere *sangrado*\n",
    "    \n",
    "    Sintaxis alternativa: declaraciones cortas de una sola linea\n",
    "    \n",
    "    ```python\n",
    "if condición: declaración\n",
    "    ```\n",
    "\n",
    "\n",
    "Ejemplo:"
   ]
  },
  {
   "cell_type": "code",
   "execution_count": null,
   "metadata": {},
   "outputs": [],
   "source": [
    "a = float(input('Select a number between 0 to 10: '))\n",
    "print('You selected ',a)\n",
    "IsRound  = a % int(a) == 0 #Si el numero es un entero, no deberia tener decimales\n",
    "IsEven   = a % 2 == 0 #Vereficamos si el numero es par\n",
    "if IsRound and IsEven:\n",
    "    print('The number you selected is even')\n",
    "elif IsRound and not IsEven:\n",
    "    print('The number you selected is odd')\n",
    "else:\n",
    "    print('The number you selected is not integer')"
   ]
  },
  {
   "cell_type": "markdown",
   "metadata": {},
   "source": [
    "* Usar un diccionario para una declaración condicional\n",
    "\n",
    "     Ejemplo: crear una rutina que escriba un número entero entre 0 y 5\n",
    "    \n",
    "     Primero usemos declaraciones ```if ... else```"
   ]
  },
  {
   "cell_type": "code",
   "execution_count": null,
   "metadata": {},
   "outputs": [],
   "source": [
    "a = float(input('Select a round number between 1 to 5: '))\n",
    "IsRound  = a % int(a) == 0\n",
    "IsMore0  = a >= 0\n",
    "IsLess5  = a <= 5\n",
    "if IsRound and IsMore0 and IsLess5:\n",
    "    print(f'Escogiste {a}, esta dentro del rango!')\n",
    "    a = int(a)\n",
    "    if a == 1:\n",
    "        print('Uno')\n",
    "    elif a == 2:\n",
    "        print('Dos')\n",
    "    elif a == 3:\n",
    "        print('Tres')\n",
    "    elif a == 4:\n",
    "        print('Cuatro')\n",
    "    else:\n",
    "        print('Cinco')        \n",
    "else:\n",
    "    print(f'Escogiste {a}, no esta dentro del rango o no es un numero entero!')"
   ]
  },
  {
   "cell_type": "code",
   "execution_count": null,
   "metadata": {},
   "outputs": [],
   "source": [
    "\"\"\"\n",
    "Function to convert number into string\n",
    "Switcher is dictionary data type here\n",
    "\"\"\"\n",
    "\n",
    "\n",
    "def numbers_to_strings(argument):\n",
    "    switcher = {\n",
    "        0: \"Cero\",\n",
    "        1: \"Uno\",\n",
    "        2: \"Dos\",\n",
    "        3: \"Tres\",\n",
    "        4: \"Cuatro\",\n",
    "        5: \"Cinco\",\n",
    "    }\n",
    "\n",
    "    \"\"\"\n",
    "    get() method of dictionary data type returns\n",
    "    value of passed argument if it is present\n",
    "    in dictionary otherwise second argument will\n",
    "    be assigned as default value of passed argument\n",
    "    \"\"\"\n",
    "    return switcher.get(argument, \"No existe en la función\")"
   ]
  },
  {
   "cell_type": "code",
   "execution_count": null,
   "metadata": {},
   "outputs": [],
   "source": [
    "print(numbers_to_strings(10))"
   ]
  },
  {
   "cell_type": "markdown",
   "metadata": {},
   "source": [
    "## 8. Loops\n",
    "\n",
    "1. Loop definidos:\n",
    "\n",
    "    Los límites son conocidos antes de inicializar el bucle\n",
    "    \n",
    "    Declaración: ```for loop```\n",
    "    \n",
    "    Sintaxis\n",
    "    \n",
    "```python \n",
    "for x in lista_de_x:\n",
    "    statements(x)\n",
    "```\n",
    "    \n",
    "    Ejemplo:\n",
    "    \n",
    "    Imprimir la suma acumulada de enteros entre 0 y 5"
   ]
  },
  {
   "cell_type": "code",
   "execution_count": null,
   "metadata": {},
   "outputs": [],
   "source": [
    "x = 0\n",
    "for i in range(10):\n",
    "    x += i\n",
    "    print(f'{i} : {x}')"
   ]
  },
  {
   "cell_type": "markdown",
   "metadata": {},
   "source": [
    "2. Loop indefinidos:\n",
    "    \n",
    "    Los limites no son conocidos antes de inicializar el bucle.\n",
    "    \n",
    "    * Loop truncado ```for```\n",
    "    \n",
    "        Syntax:\n",
    "        \n",
    "        ```python\n",
    "for x in lista_de_x:\n",
    "    statement(x)\n",
    "    if condition:\n",
    "        statement(x)\n",
    "        break\n",
    "        ```\n",
    "        \n",
    "        Ejemplo:\n",
    "        \n",
    "        La aproximación de Taylor de $\\exp(x)$ es\n",
    "        \n",
    "        $$\\exp(x)\\approx 1 + x + \\frac{x^2}{2!} + \\frac{x^3}{3!} + \\frac{x^4}{4!} + ...$$\n",
    "        \n",
    "        escriba un programa para calcular el orden mínimo aproximado de manera que la aproximación de $\\exp(x)$ sea precisa hasta el sexto decimal"
   ]
  },
  {
   "cell_type": "code",
   "execution_count": null,
   "metadata": {},
   "outputs": [],
   "source": [
    "from math import exp\n",
    "a = float(input('Please, introduce a real number: '))\n",
    "target = exp(a)\n",
    "ToL    = 1e-7\n",
    "apower = 1\n",
    "afactorial = 1\n",
    "for order in range(10000):\n",
    "    if order == 0:\n",
    "        appr = 1\n",
    "    else:\n",
    "        apower = apower*a\n",
    "        afactorial = afactorial*order\n",
    "        appr = appr + apower/afactorial\n",
    "    if abs(target-appr)<ToL:\n",
    "        break\n",
    "\n",
    "min_order = order\n",
    "print('For x =', a,'the minimum order of approximation to have an accuracy of 6 digits is ', min_order)\n",
    "print('exp(%2.6f) = %2.7f' %(a,target))\n",
    "print('app(%2.6f) = %2.7f' %(a,appr))"
   ]
  },
  {
   "cell_type": "markdown",
   "metadata": {},
   "source": [
    "* Loop ```While```:\n",
    "    \n",
    "    Syntax\n",
    "    \n",
    "    ```python\n",
    "while condition:\n",
    "    statements\n",
    "    ```\n",
    "    \n",
    "    Ejemplo: el mismo ejercicio de arriba"
   ]
  },
  {
   "cell_type": "code",
   "execution_count": null,
   "metadata": {},
   "outputs": [],
   "source": [
    "import math\n",
    "a = float(input('Please, introduce a real number: '))\n",
    "target = math.exp(a)\n",
    "apower = 1\n",
    "afactorial = 1\n",
    "order  = 0\n",
    "cond   = True\n",
    "ToL    = 1e-7\n",
    "while cond:\n",
    "    if order==0:\n",
    "        appr = 1\n",
    "    else:\n",
    "        apower = apower*a\n",
    "        afactorial = afactorial*order\n",
    "        appr = appr + apower/afactorial\n",
    "        \n",
    "    order += 1\n",
    "    cond = abs(target-appr)>=ToL\n",
    "    \n",
    "\n",
    "min_order = order-1\n",
    "print('For x =', a,'the minimum order of approximation to have an accuracy of 6 digits is ', min_order)\n",
    "print('exp(%2.6f) = %2.7f' %(a,target))\n",
    "print('app(%2.6f) = %2.7f' %(a,appr))"
   ]
  },
  {
   "cell_type": "markdown",
   "metadata": {},
   "source": [
    "#### Extra"
   ]
  },
  {
   "cell_type": "code",
   "execution_count": null,
   "metadata": {},
   "outputs": [],
   "source": [
    "import os\n",
    "os.chdir('C:/Users/fceva/Documents/Introduccion a Python')\n",
    "\n",
    "words = open('words.txt', 'r').read().split()\n",
    "print(len(words))\n",
    "words"
   ]
  },
  {
   "cell_type": "code",
   "execution_count": null,
   "metadata": {},
   "outputs": [],
   "source": [
    "count = 0\n",
    "palindromos = []\n",
    "for word in words:\n",
    "    if word == word[::-1]:\n",
    "        palindromos.append(word)\n",
    "        count += 1\n",
    "\n",
    "print(f'En total hay {count} palindromos en la lista')\n",
    "print(palindromos)"
   ]
  },
  {
   "cell_type": "code",
   "execution_count": null,
   "metadata": {},
   "outputs": [],
   "source": [
    "palindromos = [i for i in words if i == i[::-1]]\n",
    "print(f'En total hay {len(palindromos)} palindromos en la lista')\n",
    "print(palindromos)"
   ]
  },
  {
   "cell_type": "markdown",
   "metadata": {},
   "source": [
    "# Uso de módulos\n",
    "\n",
    "\n",
    "Estos son algunos de los paquetes principales:\n",
    "\n",
    "* [NumPy](http://www.numpy.org/): módulo básico necesario para gran parte del trabajo numérico, permite trabajar con matrices numéricas (vectores o matrices)\n",
    "* [Scipy](https://scipy.org/scipylib/index.html): métodos numéricos y herramientas adicionales para complementar NumPy, como rutinas para la integración numérica y optimización\n",
    "* [Matplotlib](https://matplotlib.org/): una libreria de trazado 2D de Python que implementa una variedad de formatos impresos y entornos interactivos en todas las plataformas\n",
    "* [Ipython](http://ipython.org/): Arquitectura para la informática interactiva (utilizada por Jupyter)\n",
    "* [Sympy](https://www.sympy.org/en/index.html): SymPy es una libreria de matemática simbólica.\n",
    "* [Pandas](http://pandas.pydata.org/): proporciona estructuras de datos de alto rendimiento y herramientas de análisis de datos fáciles de utilizar.\n",
    "\n",
    "Instalación: escriba su terminal\n",
    "\n",
    "```python -m pip install --user numpy scipy matplotlib ipython pandas sympy nose```\n",
    "\n",
    "Instalación: Desde anaconda\n",
    "\n",
    "```conda install numpy scipy matplotlib ipython pandas sympy nose```\n",
    "\n",
    "## Nosotros revisaremos:\n",
    "1. Numpy\n",
    "2. Pandas\n",
    "3. Matplotlib\n",
    "\n",
    "\n",
    "## 1. NumPy\n",
    "Crear la matriz $a=\\left[\\begin{matrix} 1 & 2 \\\\ 3 & 4 \\end{matrix}\\right]$ con el código básico de Python y calcule $2*a$, ¿qué sucede?"
   ]
  },
  {
   "cell_type": "code",
   "execution_count": null,
   "metadata": {},
   "outputs": [],
   "source": [
    "a = [[1, 2],[3, 4]]\n",
    "print(a)\n",
    "print(a[0])\n",
    "print(a[1])\n",
    "print(a[0][0])\n",
    "print(a[1][1])"
   ]
  },
  {
   "cell_type": "code",
   "execution_count": null,
   "metadata": {},
   "outputs": [],
   "source": [
    "print(2 * a)"
   ]
  },
  {
   "cell_type": "code",
   "execution_count": null,
   "metadata": {},
   "outputs": [],
   "source": [
    "import numpy as np"
   ]
  },
  {
   "cell_type": "code",
   "execution_count": null,
   "metadata": {},
   "outputs": [],
   "source": [
    "a = np.array(a)\n",
    "print(a)\n",
    "print(type(a))"
   ]
  },
  {
   "cell_type": "code",
   "execution_count": null,
   "metadata": {},
   "outputs": [],
   "source": [
    "print(2 * a)"
   ]
  },
  {
   "cell_type": "markdown",
   "metadata": {},
   "source": [
    "$2*a$ devuelve una multiplicación de matriz con escalar\n",
    "\n",
    "* Indexación con NumPy: ```arreglo[filas,columnas]```"
   ]
  },
  {
   "cell_type": "code",
   "execution_count": null,
   "metadata": {},
   "outputs": [],
   "source": [
    "print(a[0,1])\n",
    "print(a[0,:])\n",
    "print(a[:,1])"
   ]
  },
  {
   "cell_type": "markdown",
   "metadata": {},
   "source": [
    "### Algunas operaciones con NumPy\n",
    "\n",
    "ver [aquí](https://docs.scipy.org/doc/numpy/user/quickstart.html) para más ejemplos\n",
    "    \n",
    "ver [aquí](https://docs.scipy.org/doc/numpy/user/numpy-for-matlab-users.html) si está familiarizado con la sintaxis de Matlab / quizás R\n",
    "    \n",
    "* Transponer"
   ]
  },
  {
   "cell_type": "code",
   "execution_count": null,
   "metadata": {},
   "outputs": [],
   "source": [
    "print(f'Matriz a: \\n {a}')\n",
    "print(f'Transpuesta: \\n {a.T}')"
   ]
  },
  {
   "cell_type": "markdown",
   "metadata": {},
   "source": [
    "* Producto matricial"
   ]
  },
  {
   "cell_type": "code",
   "execution_count": null,
   "metadata": {},
   "outputs": [],
   "source": [
    "print(f'Matriz a = \\n {a}')\n",
    "\n",
    "v = np.array([2,3])\n",
    "print(f'Vector v = {v}') #vector columna\n",
    "\n",
    "m = np.array([[5,6],[7,8]])\n",
    "print(f'Matriz m = \\n {m} ')\n",
    "\n",
    "d = np.dot(a, m)\n",
    "print(f'a x m = \\n {d}')\n",
    "\n",
    "e = np.array([[2],[3]])\n",
    "print(f'e = \\n {e}')\n",
    "\n",
    "z = np.dot(v, a)\n",
    "print(f'v x a = \\n {z} ')\n",
    "\n",
    "p= np.dot(a, e)\n",
    "print(f'a x e = \\n {p}')"
   ]
  },
  {
   "cell_type": "code",
   "execution_count": null,
   "metadata": {},
   "outputs": [],
   "source": [
    "print(a.shape)"
   ]
  },
  {
   "cell_type": "code",
   "execution_count": null,
   "metadata": {},
   "outputs": [],
   "source": [
    "b = e.T\n",
    "print(e)\n",
    "print(e.shape)\n",
    "print(b)\n",
    "print(b.shape)"
   ]
  },
  {
   "cell_type": "markdown",
   "metadata": {},
   "source": [
    "* Operaciones elemento por elemento:\n",
    "        \n",
    "    '+', '-', ' * ' and '/' calculan operaciones elemento por elemento\n",
    "        \n",
    "__Note__: A diferencia de matlab, '$*$' y '$/$' no representan operaciones matriciales (la sintaxis equivalente en Matlab es '$.*$' y '$./$')"
   ]
  },
  {
   "cell_type": "code",
   "execution_count": null,
   "metadata": {},
   "outputs": [],
   "source": [
    "print(f'La matriz a es: \\n {a}')\n",
    "print(f'La matriz m es: \\n {m}')\n",
    "\n",
    "print(f'\\n a + m: \\n {a + m}')\n",
    "\n",
    "print(f'\\n a - m: \\n{a - m}')\n",
    "\n",
    "print(f'\\n a * m: \\n {a * m}')\n",
    "\n",
    "print(f'\\n a / m: \\n {a / m}')"
   ]
  },
  {
   "cell_type": "markdown",
   "metadata": {},
   "source": [
    "* Operaciones escalares matriciales:\n",
    "    \n",
    "     ' + ', ' - ', ' * ', ' * * ' y ' / ' entre una matriz y un escalar devuelve cada elemento de la matriz cuando esa operación se aplica con el escalar"
   ]
  },
  {
   "cell_type": "code",
   "execution_count": null,
   "metadata": {},
   "outputs": [],
   "source": [
    "print(f'a: \\n {a}')\n",
    "print(f'a + 2: \\n {a + 2}')\n",
    "print(f'a ** 2: \\n {a ** 2}')"
   ]
  },
  {
   "cell_type": "markdown",
   "metadata": {},
   "source": [
    "* Algunas herramientas de álgebra lineal\n",
    "\n",
    "     Resolver por $x$ en $a x = m$\n",
    "    \n",
    "     En álgebra lineal debería ser así: $x= a^{-1} m $\n",
    "    \n",
    "     Computacionalmente, es generalmente ineficiente calcular el inverso de una matriz. Numpy proporciona un solucionador que evita el cálculo de la inversa para este caso, que es ```linalg.solve```"
   ]
  },
  {
   "cell_type": "code",
   "execution_count": null,
   "metadata": {},
   "outputs": [],
   "source": [
    "print(f'Solve for \"x\" in \"a x = m\"')\n",
    "x = np.linalg.solve(a,m)\n",
    "print(x)\n",
    "print('Verify: \"a x - m = 0\"')\n",
    "print(np.dot(a,x) - m)"
   ]
  },
  {
   "cell_type": "markdown",
   "metadata": {},
   "source": [
    "### Distribuciones y realizaciones\n",
    "Puede encontrar la lista de distribuciones compatibles en Numpy [aquí](https://docs.scipy.org/doc/numpy-1.15.0/reference/routines.random.html)\n",
    "\n",
    "* Establecer una semilla\n",
    "    \n",
    "    Las semillas son importantes para replicabilidad, si se configura una semilla antes de generar realizaciones de una distribución, siempre puedes obtener los mismos resultados\n",
    "    \n",
    "    Las definiciones aleatorias en numpy son subdefiniciones, podemos seguir escribiendo ```np.random.(definición)``` o importar solo el segmento ```numpy.random```"
   ]
  },
  {
   "cell_type": "markdown",
   "metadata": {},
   "source": [
    "Ejemplos:"
   ]
  },
  {
   "cell_type": "code",
   "execution_count": null,
   "metadata": {},
   "outputs": [],
   "source": [
    "MatUnif0 = np.random.rand(5,2) \n",
    "print(MatUnif0)"
   ]
  },
  {
   "cell_type": "code",
   "execution_count": null,
   "metadata": {},
   "outputs": [],
   "source": [
    "MatUnif1 = np.random.rand(5,2)\n",
    "print(MatUnif1)"
   ]
  },
  {
   "cell_type": "code",
   "execution_count": null,
   "metadata": {},
   "outputs": [],
   "source": [
    "#Fijamos una semilla o seed\n",
    "np.random.seed(123)"
   ]
  },
  {
   "cell_type": "code",
   "execution_count": null,
   "metadata": {},
   "outputs": [],
   "source": [
    "MatUnif0 = np.random.rand(5,2) \n",
    "print(MatUnif0)"
   ]
  },
  {
   "cell_type": "code",
   "execution_count": null,
   "metadata": {},
   "outputs": [],
   "source": [
    "MatUnif1 = np.random.rand(5,2)\n",
    "print(MatUnif1)"
   ]
  },
  {
   "cell_type": "markdown",
   "metadata": {},
   "source": [
    "* Realizaciones de una distribución normal"
   ]
  },
  {
   "cell_type": "code",
   "execution_count": null,
   "metadata": {},
   "outputs": [],
   "source": [
    "MatNorm = np.random.randn(5, 2)\n",
    "print(MatNorm)"
   ]
  },
  {
   "cell_type": "markdown",
   "metadata": {},
   "source": [
    "* Extraer muestras de una distribución Gumbel"
   ]
  },
  {
   "cell_type": "code",
   "execution_count": null,
   "metadata": {},
   "outputs": [],
   "source": [
    "loc=0\n",
    "scale=1\n",
    "size=(5,2)\n",
    "MatGum = np.random.gumbel(loc,scale,size)\n",
    "print(MatGum)"
   ]
  },
  {
   "cell_type": "markdown",
   "metadata": {},
   "source": [
    "* Remuestreo\n",
    "\n",
    "    Muchas aplicaciones econométricas requieren remuestreo de datos (por ejemplo, Bootstrap), veamos cómo podemos remuestrear observaciones al azar con NumPy."
   ]
  },
  {
   "cell_type": "markdown",
   "metadata": {},
   "source": [
    "* Remuestreo con reemplazo:\n",
    "    \n",
    "     Crear una matriz y asumir que contiene observaciones de 2 variables con 5 individuos. La información por persona está en las filas, mientras que las variables están en columnas."
   ]
  },
  {
   "cell_type": "code",
   "execution_count": null,
   "metadata": {},
   "outputs": [],
   "source": [
    "nrows = 5\n",
    "ncols = 2\n",
    "MatNorm = npr.randn(nrows,ncols)\n",
    "print(MatNorm)"
   ]
  },
  {
   "cell_type": "markdown",
   "metadata": {},
   "source": [
    "Sólo deberíamos remuestrear individuos; por lo tanto, solo las filas deben remuestrearse con reemplazo: use ```npr.choice```"
   ]
  },
  {
   "cell_type": "code",
   "execution_count": null,
   "metadata": {},
   "outputs": [],
   "source": [
    "newrow = npr.choice(nrows, nrows)\n",
    "#el primer nrows es para indicarle hasta qué número de índice va 'n-1' porque toma en cuenta el 0\n",
    "#el segundo nrows es para decirle cuántos espacios genero\n",
    "print(newrow)"
   ]
  },
  {
   "cell_type": "code",
   "execution_count": null,
   "metadata": {},
   "outputs": [],
   "source": [
    "ResampledMatNorm = MatNorm[newrow,:]\n",
    "print(ResampledMatNorm)"
   ]
  },
  {
   "cell_type": "markdown",
   "metadata": {},
   "source": [
    "* Remuestreo sin reemplazo: si el remuestreo debe hacerse sin reemplazo, use la opción ```replace = False``` de` `` npr.choice```"
   ]
  },
  {
   "cell_type": "code",
   "execution_count": null,
   "metadata": {},
   "outputs": [],
   "source": [
    "newrow = npr.choice(nrows, nrows, replace=False)\n",
    "print(newrow)"
   ]
  },
  {
   "cell_type": "code",
   "execution_count": null,
   "metadata": {},
   "outputs": [],
   "source": [
    "ResampledMatNorm = MatNorm[newrow,:]\n",
    "print(ResampledMatNorm)"
   ]
  },
  {
   "cell_type": "markdown",
   "metadata": {},
   "source": [
    "## 2. Pandas\n",
    "Pandas permite leer varios tipos de archivos, por ejemplo: Excel, Csv, Stata, SPSS, etc\n",
    "\n",
    "Pueden ver la documentación [aqui](https://pandas.pydata.org/docs/user_guide/index.html#user-guide)"
   ]
  },
  {
   "cell_type": "code",
   "execution_count": null,
   "metadata": {},
   "outputs": [],
   "source": [
    "import pandas as pd"
   ]
  },
  {
   "cell_type": "markdown",
   "metadata": {},
   "source": [
    "#### Creación de objetos"
   ]
  },
  {
   "cell_type": "code",
   "execution_count": null,
   "metadata": {},
   "outputs": [],
   "source": [
    "s = pd.Series([1, 3, 5, np.nan, 6, 8])\n",
    "print(s)\n",
    "print(type(s))"
   ]
  },
  {
   "cell_type": "code",
   "execution_count": null,
   "metadata": {},
   "outputs": [],
   "source": [
    "dates = pd.date_range('2020-01-01', periods = 6)"
   ]
  },
  {
   "cell_type": "code",
   "execution_count": null,
   "metadata": {},
   "outputs": [],
   "source": [
    "#Tambien podemos pasar numpy arrays como valores a pandas y crear una dataframe\n",
    "df = pd.DataFrame(np.random.rand(6, 4), index = dates, columns = ['A', 'B', 'C', 'D'])\n",
    "df"
   ]
  },
  {
   "cell_type": "code",
   "execution_count": null,
   "metadata": {},
   "outputs": [],
   "source": [
    "df2 = pd.DataFrame({'A': 1.,\n",
    "                    'B': pd.Timestamp('20130102'),\n",
    "                    'C': pd.Series(1, index=list(range(4)), dtype='float32'),\n",
    "                    'D': np.array([3] * 4, dtype='int32'),\n",
    "                    'E': pd.Categorical([\"test\", \"train\", \"test\", \"train\"]),\n",
    "                    'F': 'foo'})\n",
    "df2"
   ]
  },
  {
   "cell_type": "code",
   "execution_count": null,
   "metadata": {},
   "outputs": [],
   "source": [
    "#Veamos un poco de data real\n",
    "import pandas_datareader as web #Una libreria que permite descargar el precio de las acciones y esta basado en Pandas\n",
    "\n",
    "data = web.get_data_yahoo('TSLA', '2015-01-01')\n",
    "data"
   ]
  },
  {
   "cell_type": "code",
   "execution_count": null,
   "metadata": {},
   "outputs": [],
   "source": [
    "type(data)"
   ]
  },
  {
   "cell_type": "markdown",
   "metadata": {},
   "source": [
    "#### Viendo la data"
   ]
  },
  {
   "cell_type": "code",
   "execution_count": null,
   "metadata": {},
   "outputs": [],
   "source": [
    "data.head()"
   ]
  },
  {
   "cell_type": "code",
   "execution_count": null,
   "metadata": {},
   "outputs": [],
   "source": [
    "data.tail()"
   ]
  },
  {
   "cell_type": "code",
   "execution_count": null,
   "metadata": {},
   "outputs": [],
   "source": [
    "#Podemos convertir la data a Numpy tambien\n",
    "data.head().to_numpy()"
   ]
  },
  {
   "cell_type": "code",
   "execution_count": null,
   "metadata": {},
   "outputs": [],
   "source": [
    "print(data.info())"
   ]
  },
  {
   "cell_type": "code",
   "execution_count": null,
   "metadata": {},
   "outputs": [],
   "source": [
    "print(data.describe())"
   ]
  },
  {
   "cell_type": "markdown",
   "metadata": {},
   "source": [
    "* Accediendo a la data. Podemos acceder de 3 formas:\n",
    "    - Slicing\n",
    "    - Usando los nombres\n",
    "    - Usando los indices"
   ]
  },
  {
   "cell_type": "code",
   "execution_count": null,
   "metadata": {},
   "outputs": [],
   "source": [
    "#Slicing\n",
    "data[0:3]"
   ]
  },
  {
   "cell_type": "code",
   "execution_count": null,
   "metadata": {},
   "outputs": [],
   "source": [
    "#Label\n",
    "data.loc[:, ['Open', 'Close', 'Adj Close']]"
   ]
  },
  {
   "cell_type": "code",
   "execution_count": null,
   "metadata": {},
   "outputs": [],
   "source": [
    "data.iloc[:, [2, 3, 5]]"
   ]
  },
  {
   "cell_type": "code",
   "execution_count": null,
   "metadata": {},
   "outputs": [],
   "source": [
    "#Podemos usar Boleans para filtrar la data\n",
    "data[data['Open'] > 50]"
   ]
  },
  {
   "cell_type": "markdown",
   "metadata": {},
   "source": [
    "#### Algunas operaciones con Pandas"
   ]
  },
  {
   "cell_type": "code",
   "execution_count": null,
   "metadata": {},
   "outputs": [],
   "source": [
    "print(data['Adj Close'].mean()) #La media del precio de cierre"
   ]
  },
  {
   "cell_type": "code",
   "execution_count": null,
   "metadata": {},
   "outputs": [],
   "source": [
    "print(data['Adj Close'].std()) #La desviacion estandar del precio de cierre"
   ]
  },
  {
   "cell_type": "code",
   "execution_count": null,
   "metadata": {},
   "outputs": [],
   "source": [
    "print(data['Adj Close'].var()) #La varianza del precio de cierre"
   ]
  },
  {
   "cell_type": "markdown",
   "metadata": {},
   "source": [
    "* Aplicar una funcion ```apply```\n",
    "\n",
    "    Ejemplo:\n",
    "\n",
    "    $$ Normalization: X' = \\frac{X - X_{min}}{X_{max} - X_{min}}$$\n",
    "\n",
    "    escriba un programa para calcular el orden mínimo aproximado de manera que la aproximación de $\\exp(x)$ sea precisa hasta el sexto decimal"
   ]
  },
  {
   "cell_type": "code",
   "execution_count": null,
   "metadata": {},
   "outputs": [],
   "source": [
    "df3 = data.copy()\n",
    "for i in df3.columns:\n",
    "    max_value = df3[i].max()\n",
    "    min_value = df3[i].min()\n",
    "    df3[i] = df3[i].apply(lambda x: (x - min_value) / (max_value - min_value))"
   ]
  },
  {
   "cell_type": "code",
   "execution_count": null,
   "metadata": {},
   "outputs": [],
   "source": [
    "df3"
   ]
  },
  {
   "cell_type": "markdown",
   "metadata": {},
   "source": [
    "#### Unir bases de datos"
   ]
  },
  {
   "cell_type": "code",
   "execution_count": null,
   "metadata": {},
   "outputs": [],
   "source": [
    "data2 = web.get_data_yahoo('AMZN', '2015-01-01')"
   ]
  },
  {
   "cell_type": "code",
   "execution_count": null,
   "metadata": {},
   "outputs": [],
   "source": [
    "data3 = pd.concat([data, data2], keys = ['TSLA', 'AMZN'])\n",
    "data3"
   ]
  },
  {
   "cell_type": "code",
   "execution_count": null,
   "metadata": {},
   "outputs": [],
   "source": [
    "left = pd.DataFrame({'key': ['K0', 'K1', 'K2', 'K3'],\n",
    "                     'A': ['A0', 'A1', 'A2', 'A3'],\n",
    "                     'B': ['B0', 'B1', 'B2', 'B3']})\n",
    "left"
   ]
  },
  {
   "cell_type": "code",
   "execution_count": null,
   "metadata": {},
   "outputs": [],
   "source": [
    "right = pd.DataFrame({'key': ['K0', 'K1', 'K2', 'K3'],\n",
    "                      'C': ['C0', 'C1', 'C2', 'C3'],\n",
    "                      'D': ['D0', 'D1', 'D2', 'D3']})\n",
    "right"
   ]
  },
  {
   "cell_type": "code",
   "execution_count": null,
   "metadata": {},
   "outputs": [],
   "source": [
    "result = pd.merge(left, right, on='key')\n",
    "result"
   ]
  },
  {
   "cell_type": "markdown",
   "metadata": {},
   "source": [
    "Tambien podemos agrupar la data segun un criterio"
   ]
  },
  {
   "cell_type": "code",
   "execution_count": null,
   "metadata": {},
   "outputs": [],
   "source": [
    "emergentes = pd.read_csv('Panel_Emergentes.csv')\n",
    "emergentes"
   ]
  },
  {
   "cell_type": "code",
   "execution_count": null,
   "metadata": {},
   "outputs": [],
   "source": [
    "#Se puede poner cualquier metodo que funcione con pandas\n",
    "print(emergentes.groupby('pais').mean())"
   ]
  },
  {
   "cell_type": "markdown",
   "metadata": {},
   "source": [
    "#### Pandas incluye Matplotlib dentro"
   ]
  },
  {
   "cell_type": "code",
   "execution_count": null,
   "metadata": {},
   "outputs": [],
   "source": [
    "peru = emergentes[emergentes['pais'] == 'PERU']\n",
    "peru.head()"
   ]
  },
  {
   "cell_type": "code",
   "execution_count": null,
   "metadata": {},
   "outputs": [],
   "source": [
    "peru['Periodo'] = pd.date_range('2005-01-01', '2019-07-01', freq = 'Q')\n",
    "peru.set_index('Periodo', inplace = True)\n",
    "peru.tail()"
   ]
  },
  {
   "cell_type": "code",
   "execution_count": null,
   "metadata": {},
   "outputs": [],
   "source": [
    "peru['GDP'].plot()"
   ]
  },
  {
   "cell_type": "markdown",
   "metadata": {},
   "source": [
    "## 3. Matplotlib\n",
    "Figuras en 2d y 3d generalmente se realizan con el módulo matplotlib.\n",
    "\n",
    "**Nota 1**: *Muchos de estos comandos de trazado son muy similares a los de Matlab.*\n",
    "\n",
    "\n",
    "Siga este [enlace](https://matplotlib.org/gallery.html) para obtener más información (al hacer clic en una figura se muestran los comandos necesarios para crearla)\n",
    "\n",
    "Un simple ejemplo"
   ]
  },
  {
   "cell_type": "markdown",
   "metadata": {},
   "source": [
    "1. Importar el módulo:"
   ]
  },
  {
   "cell_type": "code",
   "execution_count": null,
   "metadata": {},
   "outputs": [],
   "source": [
    "import matplotlib.pyplot as plt\n",
    "%matplotlib inline \n",
    "# La última línea de arriba me permite mostrar figuras en jupyter\n",
    "# no se requiere en una rutina con código sólo *python*"
   ]
  },
  {
   "cell_type": "markdown",
   "metadata": {},
   "source": [
    "2. Tracemos $ y = \\sin(x) $ y $ y = - \\sin(x) $ en un solo gráfico"
   ]
  },
  {
   "cell_type": "code",
   "execution_count": null,
   "metadata": {},
   "outputs": [],
   "source": [
    "x = np.linspace(0, 10, 500) # similar a 'range(500)/50'\n",
    "dashes = [10, 5, 100, 5]  # 10 points on, 5 off, 100 on, 5 off\n",
    "\n",
    "fig, ax = plt.subplots()\n",
    "line1, = ax.plot(x, np.sin(x), '--', linewidth=2,label='Guiones establecidos retroactivamente')\n",
    "line1.set_dashes(dashes)\n",
    "line2, = ax.plot(x, -1 * np.sin(x), dashes=[30, 5, 10, 5],label='Guiones establecidos proactivamente')\n",
    "ax.legend(loc='lower right')\n",
    "plt.show()"
   ]
  },
  {
   "cell_type": "markdown",
   "metadata": {},
   "source": [
    "3. Tracemos un histograma con datos simulados."
   ]
  },
  {
   "cell_type": "code",
   "execution_count": null,
   "metadata": {},
   "outputs": [],
   "source": [
    "np.random.seed(0)\n",
    "mu = 200\n",
    "sigma = 25\n",
    "x = npr.normal(mu, sigma, size=100)\n",
    "\n",
    "fig, (ax0, ax1) = plt.subplots(ncols=2, figsize=(8, 4))\n",
    "\n",
    "ax0.hist(x, 20, density=1, histtype='stepfilled', facecolor='g', alpha=0.5)\n",
    "ax0.set_title('escalonado')\n",
    "\n",
    "# Cree un histograma proporcionando los bordes de las contenedores (espaciados desigualmente).\n",
    "bins = [100, 150, 180, 195, 205, 220, 250, 300]\n",
    "ax1.hist(x, bins, density=1, histtype='bar', rwidth=0.8)\n",
    "ax1.set_title('contenedores desiguales')\n",
    "\n",
    "fig.tight_layout()\n",
    "plt.show()"
   ]
  },
  {
   "cell_type": "markdown",
   "metadata": {},
   "source": [
    "4. BoxPlots"
   ]
  },
  {
   "cell_type": "code",
   "execution_count": null,
   "metadata": {},
   "outputs": [],
   "source": [
    "plt.boxplot(data['Adj Close'])\n",
    "plt.title('BoxPlot del Precio de Cierre de Tesla')\n",
    "plt.show()"
   ]
  },
  {
   "cell_type": "markdown",
   "metadata": {},
   "source": [
    "5. Graficos combinados"
   ]
  },
  {
   "cell_type": "code",
   "execution_count": null,
   "metadata": {},
   "outputs": [],
   "source": [
    "data['10_MA'] = data['Adj Close'].rolling(window = 10).mean()\n",
    "data['20_MA'] = data['Adj Close'].rolling(window = 20).mean()\n",
    "data.dropna(inplace = True)"
   ]
  },
  {
   "cell_type": "code",
   "execution_count": null,
   "metadata": {},
   "outputs": [],
   "source": [
    "fig, ax = plt.subplots(2, 2, figsize = (20, 10))\n",
    "ax = ax.flatten()\n",
    "\n",
    "ax[0].plot(data['Adj Close'])\n",
    "ax[0].set_title('Precio de Cierre de Tesla')\n",
    "\n",
    "ax[1].plot(data['Adj Close'])\n",
    "ax[1].set_title('Ultimos 30 dias de precios')\n",
    "ax[1].set_xlim(data.index[-30], data.index[-1])\n",
    "ax[1].set_ylim(250, 650)\n",
    "\n",
    "ax[2].plot(data['Adj Close'].pct_change().dropna())\n",
    "ax[2].set_title('Retornos del precio de cierre')\n",
    "\n",
    "ax[3].plot(data['10_MA'], color = 'r')\n",
    "ax[3].plot(data['20_MA'], color = 'b')\n",
    "ax[3].set_title('Medias Moviles a 10 y 20 dias')\n",
    "\n",
    "plt.show()"
   ]
  },
  {
   "cell_type": "code",
   "execution_count": null,
   "metadata": {},
   "outputs": [],
   "source": [
    "with plt.style.context('ggplot'):\n",
    "    plt.figure(figsize = (20, 10))\n",
    "    ax1 = plt.subplot2grid(shape = (2, 2), loc = (0, 0), rowspan = 1, colspan = 1)\n",
    "    ax2 = plt.subplot2grid(shape = (2, 2), loc = (0, 1), rowspan = 1, colspan = 1)\n",
    "    ax3 = plt.subplot2grid(shape = (2, 2), loc = (1, 0), rowspan = 1, colspan = 2)\n",
    "\n",
    "    ax1.plot(data['Adj Close'])\n",
    "    ax1.set_title('Precio de Cierre de Tesla')\n",
    "\n",
    "    ax2.plot(data['Adj Close'].pct_change().dropna())\n",
    "    ax2.set_title('Retornos del precio de cierre')\n",
    "\n",
    "    ax3.plot(data['10_MA'], color = 'r')\n",
    "    ax3.plot(data['20_MA'], color = 'b')\n",
    "    ax3.set_title('Medias Moviles a 10 y 20 dias')\n",
    "    ax3.set_xlim(data.index[-30], data.index[-1])\n",
    "    ax3.set_ylim(250, 650)\n",
    "\n",
    "    plt.show()"
   ]
  },
  {
   "cell_type": "markdown",
   "metadata": {},
   "source": [
    "## Stock Screener"
   ]
  },
  {
   "cell_type": "code",
   "execution_count": null,
   "metadata": {},
   "outputs": [],
   "source": [
    "import datetime as dt\n",
    "import matplotlib.dates as mdates\n",
    "import matplotlib.ticker as mticker\n",
    "from mplfinance.original_flavor import candlestick_ohlc"
   ]
  },
  {
   "cell_type": "code",
   "execution_count": null,
   "metadata": {},
   "outputs": [],
   "source": [
    "MA1 = 10\n",
    "MA2 = 30\n",
    "\n",
    "def rsi_func(prices, n = 14):\n",
    "    deltas = np.diff(prices)\n",
    "    seed = deltas[:n+1]\n",
    "    down = -seed[seed < 0].sum() / n\n",
    "    up = seed[seed >= 0].sum() / n\n",
    "    rs = up / down\n",
    "    \n",
    "    rsi = np.zeros_like(prices)\n",
    "    rsi[:n] = 100. - 100. / (1 + rs)\n",
    "    \n",
    "    for i in range(n, len(prices)):\n",
    "        delta = deltas[i-1]\n",
    "        if delta > 0:\n",
    "            upval = delta\n",
    "            dwval = 0.\n",
    "        else:\n",
    "            upval = 0\n",
    "            dwval = -delta\n",
    "\n",
    "        up = (up * (n-1) + upval) / n    \n",
    "        down = (down * (n-1) + dwval) / n\n",
    "        rs = up / down\n",
    "        rsi[i] = 100. - 100. / (1 + rs) \n",
    "    return rsi\n",
    "        \n",
    "def moving_average(values, window):\n",
    "    weight = np.repeat(1.0, window) / window\n",
    "    smas = np.convolve(values, weight, 'valid')\n",
    "    return smas #como un numpy array\n",
    "\n",
    "def exp_mov_avg(values, window):\n",
    "    weights = np.exp(np.linspace(-1., 0., window))\n",
    "    weights /= weights.sum()\n",
    "    a = np.convolve(values, weights, mode = 'full')[:len(values)]\n",
    "    a[:window] = a[window]\n",
    "    return a\n",
    "\n",
    "def get_macd(x, slow = 26, fast = 12):\n",
    "    '''\n",
    "    macd line = 12 ema - 26 ema\n",
    "    signal line = 9 ema of the macd line\n",
    "    histogram = macd line - signal line\n",
    "    '''\n",
    "    emaslow = exp_mov_avg(x, slow)\n",
    "    emafast = exp_mov_avg(x, fast)\n",
    "    return emaslow, emafast, emafast - emaslow\n",
    "\n",
    "def graph_stock():\n",
    "    \n",
    "    stock = (str(input('Ingresa una accion: '))).upper()\n",
    "  \n",
    "    start = dt.datetime(2019,1,1)\n",
    "    end = dt.datetime.now()\n",
    "    stock_price_url = web.DataReader(stock, 'yahoo', start, end)\n",
    "    \n",
    "    closep = stock_price_url['Adj Close']\n",
    "    highp = stock_price_url['High']\n",
    "    lowp = stock_price_url['Low']\n",
    "    openp = stock_price_url['Open']\n",
    "    volume = stock_price_url['Volume']\n",
    "    date = mdates.date2num(closep.index)\n",
    "    \n",
    "    x = 0\n",
    "    y = len(date)\n",
    "    candle = []\n",
    "    \n",
    "    while x < y:\n",
    "        append_me = date[x], openp[x], highp[x], lowp[x], closep[x], volume[x]\n",
    "        candle.append(append_me)\n",
    "        x += 1\n",
    "            \n",
    "    ma1 = moving_average(closep, MA1)\n",
    "    ma2 = moving_average(closep, MA2)    \n",
    "    startp = len(date[MA2-1:])\n",
    "    \n",
    "    fig = plt.figure(facecolor = '#07000d', figsize = (20, 10))\n",
    "    \n",
    "    ax1 = plt.subplot2grid((6,4),(1,0), rowspan = 4, colspan = 4, facecolor = '#07000d')     \n",
    "    candlestick_ohlc(ax1, candle[-startp:], width = 0.4, colorup ='g', colordown = 'r')\n",
    "    \n",
    "    ax1.plot(date[-startp:], ma1[-startp:], label = str(MA1) + ' MA')\n",
    "    ax1.plot(date[-startp:], ma2[-startp:], label = str(MA2) + ' MA')\n",
    "    \n",
    "    ax1.grid(True, color = '#515151')\n",
    "    ax1.xaxis.set_major_locator(mticker.MaxNLocator(10))\n",
    "    ax1.xaxis.set_major_formatter(mdates.DateFormatter('%Y-%m'))\n",
    "    ax1.yaxis.label.set_color('w')\n",
    "    ax1.yaxis.set_major_locator(mticker.MaxNLocator(prune = 'upper'))\n",
    "    ax1.spines['bottom'].set_color('#5998ff')\n",
    "    ax1.spines['top'].set_color('#5998ff')\n",
    "    ax1.spines['right'].set_color('#5998ff')\n",
    "    ax1.spines['left'].set_color('#5998ff')\n",
    "    ax1.tick_params(axis = 'x', colors = 'w')\n",
    "    ax1.tick_params(axis = 'y', colors = 'w')   \n",
    "    plt.ylabel('Precio y Volumen')\n",
    " \n",
    "     \n",
    "    ax0 =plt.subplot2grid((6,4),(0,0), rowspan = 1, colspan = 4, facecolor = '#07000d', sharex = ax1)\n",
    "    rsi = rsi_func(closep)\n",
    "    ax0.plot(date[-startp:], rsi[-startp:], label = 'RSI')\n",
    "    ax0.axhline(70, color = '#8f2020')   \n",
    "    ax0.axhline(30, color = '#386d13')\n",
    "    ax0.fill_between(date[-startp:], rsi[-startp:], 70, where = rsi[-startp:] >= 70, facecolor = '#8f2020', edgecolor = '#8f2020')\n",
    "    ax0.fill_between(date[-startp:], rsi[-startp:], 30, where = rsi[-startp:] <= 30, facecolor = '#386d13', edgecolor = '#386d13')\n",
    "    ax0.spines['bottom'].set_color('#5998ff')\n",
    "    ax0.spines['top'].set_color('#5998ff')\n",
    "    ax0.spines['right'].set_color('#5998ff')\n",
    "    ax0.spines['left'].set_color('#5998ff')\n",
    "    ax0.yaxis.label.set_color('w')\n",
    "    ax0.set_yticks([30, 70])\n",
    "    ax0.tick_params(axis = 'x', colors = 'w')\n",
    "    ax0.tick_params(axis = 'y', colors = 'w')\n",
    "    plt.ylabel('RSI') \n",
    "    \n",
    "    VolumeMin = 0\n",
    "    ax1v = ax1.twinx()\n",
    "    ax1v.fill_between(date[-startp:], VolumeMin, volume[-startp:], alpha = 0.4)\n",
    "    ax1v.axes.yaxis.set_ticklabels([]) \n",
    "    ax1v.grid(False)\n",
    "    ax1v.spines['bottom'].set_color('#5998ff')\n",
    "    ax1v.spines['top'].set_color('#5998ff')\n",
    "    ax1v.spines['right'].set_color('#5998ff')\n",
    "    ax1v.spines['left'].set_color('#5998ff')\n",
    "    ax1v.set_ylim(0, 3 * volume.max())\n",
    "    ax1v.tick_params(axis = 'x', colors = 'w')\n",
    "    ax1v.tick_params(axis = 'y', colors = 'w')\n",
    "    \n",
    "   \n",
    "    ax2 = plt.subplot2grid((6,4),(5,0), rowspan = 1, colspan = 4, facecolor = '#07000d', sharex = ax1)     \n",
    "    nslow = 26\n",
    "    nfast = 12\n",
    "    nema = 9\n",
    "    \n",
    "    emaslow, emafast, macd = get_macd(closep)\n",
    "    ema9 = exp_mov_avg(macd, nema)\n",
    "    \n",
    "    ax2.plot(date[-startp:], macd[-startp:], lw = 2, label = 'MACD')\n",
    "    ax2.plot(date[-startp:], ema9[-startp:], lw = 1, label = 'EMA')\n",
    "    ax2.fill_between(date[-startp:], macd[-startp:] - ema9[-startp:], 0, facecolor = '#5998ff', edgecolor = '#5998ff', alpha = 0.4)  \n",
    "    ax2.spines['bottom'].set_color('#5998ff')\n",
    "    ax2.spines['top'].set_color('#5998ff')\n",
    "    ax2.spines['right'].set_color('#5998ff')\n",
    "    ax2.spines['left'].set_color('#5998ff')\n",
    "    ax2.tick_params(axis = 'x', colors = 'w')\n",
    "    ax2.tick_params(axis = 'y', colors = 'w')   \n",
    "    plt.ylabel('MACD', color = 'w')\n",
    "    ax2.yaxis.set_major_locator(mticker.MaxNLocator(nbins = 8, prune = 'upper'))\n",
    "\n",
    "    for label in ax2.xaxis.get_ticklabels():\n",
    "      label.set_rotation(45)    \n",
    "    \n",
    "    plt.setp(ax0.get_xticklabels(), visible = False)      \n",
    "    plt.setp(ax1.get_xticklabels(), visible = False)\n",
    "    plt.subplots_adjust(left = 0.12, right = 0.95, top = 0.93, bottom = 0.19, wspace = 0.2, hspace = 0.0)\n",
    "    plt.xticks(fontsize = 10)\n",
    "    plt.yticks(fontsize = 10)\n",
    "    plt.suptitle('Analisis tecnico de ' + stock, color = 'w')\n",
    "    plt.xlabel('Tiempo', color = 'w')\n",
    "    \n",
    "    ax0.legend()\n",
    "    leg0 = ax0.legend(loc = 2, ncol = 2, prop = {'size':10})\n",
    "    leg0.get_frame().set_alpha(0.4)\n",
    "    ax1.legend()\n",
    "    leg1 = ax1.legend(loc = 2, ncol = 2, prop = {'size':10})\n",
    "    leg1.get_frame().set_alpha(0.4)\n",
    "    ax2.legend()\n",
    "    leg2 = ax2.legend(loc = 3, ncol = 3, prop = {'size':10})\n",
    "    leg2.get_frame().set_alpha(0.4)    \n",
    "    plt.show()"
   ]
  },
  {
   "cell_type": "code",
   "execution_count": null,
   "metadata": {},
   "outputs": [],
   "source": [
    "graph_stock()"
   ]
  },
  {
   "cell_type": "code",
   "execution_count": null,
   "metadata": {},
   "outputs": [],
   "source": []
  }
 ],
 "metadata": {
  "kernelspec": {
   "display_name": "Python 3",
   "language": "python",
   "name": "python3"
  },
  "language_info": {
   "codemirror_mode": {
    "name": "ipython",
    "version": 3
   },
   "file_extension": ".py",
   "mimetype": "text/x-python",
   "name": "python",
   "nbconvert_exporter": "python",
   "pygments_lexer": "ipython3",
   "version": "3.8.3"
  }
 },
 "nbformat": 4,
 "nbformat_minor": 4
}
